{
 "cells": [
  {
   "cell_type": "code",
   "execution_count": 75,
   "metadata": {},
   "outputs": [],
   "source": [
    "import tensorflow as tf\n",
    "from keras.preprocessing.image import ImageDataGenerator"
   ]
  },
  {
   "cell_type": "code",
   "execution_count": 76,
   "metadata": {},
   "outputs": [
    {
     "data": {
      "text/plain": [
       "'2.10.0'"
      ]
     },
     "execution_count": 76,
     "metadata": {},
     "output_type": "execute_result"
    }
   ],
   "source": [
    "tf.__version__"
   ]
  },
  {
   "cell_type": "code",
   "execution_count": 77,
   "metadata": {},
   "outputs": [
    {
     "name": "stdout",
     "output_type": "stream",
     "text": [
      "Found 1475 images belonging to 2 classes.\n"
     ]
    }
   ],
   "source": [
    "train_datagen = ImageDataGenerator(rescale = 1./255,\n",
    "                                   shear_range = 0.2,\n",
    "                                   zoom_range = 0.2,\n",
    "                                   horizontal_flip = True)\n",
    "training_set = train_datagen.flow_from_directory('ttrain',\n",
    "                                                 target_size = (64, 64),\n",
    "                                                 batch_size = 32,\n",
    "                                   class_mode = 'binary')              \n",
    "     "
   ]
  },
  {
   "cell_type": "code",
   "execution_count": 78,
   "metadata": {},
   "outputs": [
    {
     "name": "stdout",
     "output_type": "stream",
     "text": [
      "Found 61 images belonging to 2 classes.\n"
     ]
    }
   ],
   "source": [
    "test_datagen = ImageDataGenerator(rescale = 1./255)\n",
    "test_set = test_datagen.flow_from_directory('ttest',\n",
    "                                            target_size = (64, 64),\n",
    "                                            batch_size = 32,\n",
    "                                            class_mode = 'binary')"
   ]
  },
  {
   "cell_type": "code",
   "execution_count": 79,
   "metadata": {},
   "outputs": [],
   "source": [
    "cnn = tf.keras.models.Sequential()"
   ]
  },
  {
   "cell_type": "code",
   "execution_count": 80,
   "metadata": {},
   "outputs": [],
   "source": [
    "cnn.add(tf.keras.layers.Conv2D(filters=32, kernel_size=3, activation='relu', input_shape=[64, 64, 3]))"
   ]
  },
  {
   "cell_type": "code",
   "execution_count": 81,
   "metadata": {},
   "outputs": [],
   "source": [
    "cnn.add(tf.keras.layers.MaxPool2D(pool_size=2, strides=2))"
   ]
  },
  {
   "cell_type": "code",
   "execution_count": 82,
   "metadata": {},
   "outputs": [],
   "source": [
    "cnn.add(tf.keras.layers.Conv2D(filters=32, kernel_size=3, activation='relu'))\n",
    "cnn.add(tf.keras.layers.MaxPool2D(pool_size=2, strides=2))"
   ]
  },
  {
   "cell_type": "code",
   "execution_count": 83,
   "metadata": {},
   "outputs": [],
   "source": [
    "cnn.add(tf.keras.layers.Flatten())"
   ]
  },
  {
   "cell_type": "code",
   "execution_count": 84,
   "metadata": {},
   "outputs": [],
   "source": [
    "cnn.add(tf.keras.layers.Dense(units=128, activation='relu'))"
   ]
  },
  {
   "cell_type": "code",
   "execution_count": 85,
   "metadata": {},
   "outputs": [],
   "source": [
    "cnn.add(tf.keras.layers.Dense(units=1, activation='sigmoid'))"
   ]
  },
  {
   "cell_type": "code",
   "execution_count": 86,
   "metadata": {},
   "outputs": [],
   "source": [
    "cnn.compile(optimizer = 'adam', loss = 'binary_crossentropy', metrics = ['accuracy'])"
   ]
  },
  {
   "cell_type": "code",
   "execution_count": 87,
   "metadata": {},
   "outputs": [
    {
     "name": "stdout",
     "output_type": "stream",
     "text": [
      "Epoch 1/25\n"
     ]
    },
    {
     "name": "stdout",
     "output_type": "stream",
     "text": [
      "47/47 [==============================] - 9s 165ms/step - loss: 0.5837 - accuracy: 0.7261 - val_loss: 0.4936 - val_accuracy: 0.8197\n",
      "Epoch 2/25\n",
      "47/47 [==============================] - 7s 156ms/step - loss: 0.5415 - accuracy: 0.7342 - val_loss: 0.4643 - val_accuracy: 0.8033\n",
      "Epoch 3/25\n",
      "47/47 [==============================] - 8s 157ms/step - loss: 0.5005 - accuracy: 0.7573 - val_loss: 0.5142 - val_accuracy: 0.8197\n",
      "Epoch 4/25\n",
      "47/47 [==============================] - 8s 158ms/step - loss: 0.4994 - accuracy: 0.7553 - val_loss: 0.4979 - val_accuracy: 0.8197\n",
      "Epoch 5/25\n",
      "47/47 [==============================] - 7s 157ms/step - loss: 0.4817 - accuracy: 0.7851 - val_loss: 0.4514 - val_accuracy: 0.8197\n",
      "Epoch 6/25\n",
      "47/47 [==============================] - 7s 155ms/step - loss: 0.4815 - accuracy: 0.7790 - val_loss: 0.4169 - val_accuracy: 0.8361\n",
      "Epoch 7/25\n",
      "47/47 [==============================] - 7s 158ms/step - loss: 0.4815 - accuracy: 0.7681 - val_loss: 0.4323 - val_accuracy: 0.8361\n",
      "Epoch 8/25\n",
      "47/47 [==============================] - 8s 160ms/step - loss: 0.4853 - accuracy: 0.7708 - val_loss: 0.4364 - val_accuracy: 0.8361\n",
      "Epoch 9/25\n",
      "47/47 [==============================] - 8s 165ms/step - loss: 0.4549 - accuracy: 0.7892 - val_loss: 0.4518 - val_accuracy: 0.8361\n",
      "Epoch 10/25\n",
      "47/47 [==============================] - 8s 160ms/step - loss: 0.4471 - accuracy: 0.7953 - val_loss: 0.4824 - val_accuracy: 0.7541\n",
      "Epoch 11/25\n",
      "47/47 [==============================] - 7s 159ms/step - loss: 0.4468 - accuracy: 0.7831 - val_loss: 0.4375 - val_accuracy: 0.8033\n",
      "Epoch 12/25\n",
      "47/47 [==============================] - 7s 157ms/step - loss: 0.4421 - accuracy: 0.7925 - val_loss: 0.4239 - val_accuracy: 0.7705\n",
      "Epoch 13/25\n",
      "47/47 [==============================] - 7s 158ms/step - loss: 0.4416 - accuracy: 0.7878 - val_loss: 0.4384 - val_accuracy: 0.8361\n",
      "Epoch 14/25\n",
      "47/47 [==============================] - 7s 156ms/step - loss: 0.4288 - accuracy: 0.8108 - val_loss: 0.4603 - val_accuracy: 0.8197\n",
      "Epoch 15/25\n",
      "47/47 [==============================] - 8s 163ms/step - loss: 0.4239 - accuracy: 0.8020 - val_loss: 0.4610 - val_accuracy: 0.8361\n",
      "Epoch 16/25\n",
      "47/47 [==============================] - 8s 160ms/step - loss: 0.4064 - accuracy: 0.8183 - val_loss: 0.4336 - val_accuracy: 0.8033\n",
      "Epoch 17/25\n",
      "47/47 [==============================] - 7s 156ms/step - loss: 0.4088 - accuracy: 0.8203 - val_loss: 0.4427 - val_accuracy: 0.8197\n",
      "Epoch 18/25\n",
      "47/47 [==============================] - 7s 155ms/step - loss: 0.3968 - accuracy: 0.8142 - val_loss: 0.4699 - val_accuracy: 0.7869\n",
      "Epoch 19/25\n",
      "47/47 [==============================] - 7s 156ms/step - loss: 0.3818 - accuracy: 0.8278 - val_loss: 0.4762 - val_accuracy: 0.8361\n",
      "Epoch 20/25\n",
      "47/47 [==============================] - 7s 153ms/step - loss: 0.3723 - accuracy: 0.8325 - val_loss: 0.4315 - val_accuracy: 0.8361\n",
      "Epoch 21/25\n",
      "47/47 [==============================] - 7s 152ms/step - loss: 0.3528 - accuracy: 0.8441 - val_loss: 0.5695 - val_accuracy: 0.7377\n",
      "Epoch 22/25\n",
      "47/47 [==============================] - 7s 155ms/step - loss: 0.3500 - accuracy: 0.8434 - val_loss: 0.5207 - val_accuracy: 0.8197\n",
      "Epoch 23/25\n",
      "47/47 [==============================] - 7s 156ms/step - loss: 0.3532 - accuracy: 0.8332 - val_loss: 0.5618 - val_accuracy: 0.8197\n",
      "Epoch 24/25\n",
      "47/47 [==============================] - 7s 156ms/step - loss: 0.3414 - accuracy: 0.8447 - val_loss: 0.6286 - val_accuracy: 0.7869\n",
      "Epoch 25/25\n",
      "47/47 [==============================] - 7s 155ms/step - loss: 0.3210 - accuracy: 0.8590 - val_loss: 0.5983 - val_accuracy: 0.8033\n"
     ]
    },
    {
     "data": {
      "text/plain": [
       "<keras.callbacks.History at 0x2b71019cfd0>"
      ]
     },
     "execution_count": 87,
     "metadata": {},
     "output_type": "execute_result"
    }
   ],
   "source": [
    "cnn.fit(x = training_set, validation_data = test_set, epochs = 25)"
   ]
  },
  {
   "cell_type": "code",
   "execution_count": 106,
   "metadata": {},
   "outputs": [
    {
     "name": "stdout",
     "output_type": "stream",
     "text": [
      "1/1 [==============================] - 0s 50ms/step\n"
     ]
    }
   ],
   "source": [
    "import numpy as np\n",
    "from tensorflow.keras.preprocessing import image\n",
    "test_image = image.load_img('valid\\Leprosy-21_jpg.rf.b2efbc0163d719d6d20abb8c04198957.jpg', target_size = (64, 64))\n",
    "test_image = image.img_to_array(test_image)\n",
    "test_image = np.expand_dims(test_image, axis = 0)\n",
    "result = cnn.predict(test_image)\n",
    "training_set.class_indices\n",
    "if result[0][0] == 1:\n",
    "  prediction = 'no'\n",
    "else:\n",
    "  prediction = 'yes'"
   ]
  },
  {
   "cell_type": "code",
   "execution_count": 107,
   "metadata": {},
   "outputs": [
    {
     "name": "stdout",
     "output_type": "stream",
     "text": [
      "yes\n"
     ]
    }
   ],
   "source": [
    "print(prediction)"
   ]
  }
 ],
 "metadata": {
  "kernelspec": {
   "display_name": "hack",
   "language": "python",
   "name": "python3"
  },
  "language_info": {
   "codemirror_mode": {
    "name": "ipython",
    "version": 3
   },
   "file_extension": ".py",
   "mimetype": "text/x-python",
   "name": "python",
   "nbconvert_exporter": "python",
   "pygments_lexer": "ipython3",
   "version": "3.10.13"
  }
 },
 "nbformat": 4,
 "nbformat_minor": 2
}
